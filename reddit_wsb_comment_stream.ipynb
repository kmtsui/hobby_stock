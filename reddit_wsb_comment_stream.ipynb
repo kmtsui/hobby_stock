{
  "nbformat": 4,
  "nbformat_minor": 0,
  "metadata": {
    "colab": {
      "name": "reddit_wsb_comment_stream.ipynb",
      "provenance": [],
      "collapsed_sections": [],
      "authorship_tag": "ABX9TyNgag50VG7h76JTgFf5uaiT",
      "include_colab_link": true
    },
    "kernelspec": {
      "display_name": "Python 3",
      "name": "python3"
    },
    "language_info": {
      "name": "python"
    }
  },
  "cells": [
    {
      "cell_type": "markdown",
      "metadata": {
        "id": "view-in-github",
        "colab_type": "text"
      },
      "source": [
        "<a href=\"https://colab.research.google.com/github/kmtsui/hobby_stock/blob/main/reddit_wsb_comment_stream.ipynb\" target=\"_parent\"><img src=\"https://colab.research.google.com/assets/colab-badge.svg\" alt=\"Open In Colab\"/></a>"
      ]
    },
    {
      "cell_type": "code",
      "metadata": {
        "id": "8zQIKkKQGbMH"
      },
      "source": [
        "# Link to google drive for permanent storage\n",
        "from google.colab import drive\n",
        "drive.mount('/content/drive')"
      ],
      "execution_count": null,
      "outputs": []
    },
    {
      "cell_type": "code",
      "metadata": {
        "id": "4DQyqH23n__U"
      },
      "source": [
        "# Install reddit api and natural language processing package\n",
        "! pip install praw\n",
        "! pip install nltk"
      ],
      "execution_count": null,
      "outputs": []
    },
    {
      "cell_type": "code",
      "metadata": {
        "id": "0UUHDuBAoGRF"
      },
      "source": [
        "import praw\n",
        "\n",
        "# Go to https://www.reddit.com/prefs/apps to set-up your api end-point\n",
        "reddit = praw.Reddit(\n",
        "    client_id=\"XXXXXXXXXXXXXXXXXXXX\",\n",
        "    client_secret=\"XXXXXXXXXXXXXXXXXXXX\",\n",
        "    user_agent=\"XXXXXXXXXXXXXXXXXXXX\",\n",
        "    username=\"XXXXXXXXXXXXXXXXXXXX\",\n",
        "    password=\"XXXXXXXXXXXXXXXXXXXX\",\n",
        "    check_for_async=False\n",
        ")"
      ],
      "execution_count": null,
      "outputs": []
    },
    {
      "cell_type": "code",
      "metadata": {
        "id": "8W6b6Dc6trsL"
      },
      "source": [
        "# Tickers of interest\n",
        "tickers = {'nvda','tsla','amd','zm','fb','aapl','msft','qqq','ark','arkg','arkf','arkk','arkq','arkw','arkx','intc','amzn','spce'}\n",
        "# Related alias\n",
        "ticker_alias = {\n",
        "  'nvda':{'nvidia'},\n",
        "  'tsla':{'tesla'},\n",
        "  'zm':{'zoom'},\n",
        "  'fb':{'facebook'},\n",
        "  'aapl':{'apple'},\n",
        "  'msft':{'microsoft'},\n",
        "  'intc':{'intel'},\n",
        "  'amzn':{'amazon'}\n",
        "}\n",
        "\n",
        "punctuation = ',.?!'\n",
        "\n",
        "# adding wsb/reddit flavour to vader to improve sentiment analysis, score: 4.0 to -4.0\n",
        "new_lexicon = {\n",
        "    'citron': -4.0,  \n",
        "    'hidenburg': -4.0,        \n",
        "    'moon': 4.0,\n",
        "    'highs': 2.0,\n",
        "    'mooning': 4.0,\n",
        "    'long': 2.0,\n",
        "    'short': -2.0,\n",
        "    'call': 4.0,\n",
        "    'calls': 4.0,    \n",
        "    'put': -4.0,\n",
        "    'puts': -4.0,    \n",
        "    'break': 2.0,\n",
        "    'tendie': 2.0,\n",
        "     'tendies': 2.0,\n",
        "     'town': 2.0,     \n",
        "     'overvalued': -3.0,\n",
        "     'undervalued': 3.0,\n",
        "     'buy': 4.0,\n",
        "     'sell': -4.0,\n",
        "     'gone': -1.0,\n",
        "     'gtfo': -1.7,\n",
        "     'paper': -1.7,\n",
        "     'bullish': 3.7,\n",
        "     'bearish': -3.7,\n",
        "     'bagholder': -1.7,\n",
        "     'stonk': 1.9,\n",
        "     'green': 1.9,\n",
        "     'money': 1.2,\n",
        "     'print': 2.2,\n",
        "     'rocket': 2.2,\n",
        "     'bull': 2.9,\n",
        "     'bear': -2.9,\n",
        "     'pumping': -1.0,\n",
        "     'sus': -3.0,\n",
        "     'offering': -2.3,\n",
        "     'rip': -4.0,\n",
        "     'downgrade': -3.0,\n",
        "     'upgrade': 3.0,     \n",
        "     'maintain': 1.0,          \n",
        "     'pump': 1.9,\n",
        "     'hot': 1.5,\n",
        "     'drop': -2.5,\n",
        "     'rebound': 1.5,  \n",
        "     'crack': 2.5,}"
      ],
      "execution_count": null,
      "outputs": []
    },
    {
      "cell_type": "code",
      "metadata": {
        "id": "pD2nBCzf5kAE"
      },
      "source": [
        "ticker_comments = {}\n",
        "ticker_scores = {}"
      ],
      "execution_count": null,
      "outputs": []
    },
    {
      "cell_type": "code",
      "metadata": {
        "id": "jCS2ySJXrnJ-"
      },
      "source": [
        "# Create a sql database for storing ticker comments\n",
        "from sqlalchemy import create_engine\n",
        "engine = create_engine(\"sqlite:////content/drive/MyDrive/my_db/wsb_July13.db\", echo=True)\n",
        "conn = engine.connect()\n",
        "\n",
        "from sqlalchemy.orm import sessionmaker\n",
        "Session = sessionmaker(bind=engine)\n",
        "session = Session()"
      ],
      "execution_count": null,
      "outputs": []
    },
    {
      "cell_type": "code",
      "metadata": {
        "id": "6SshvJrusPeW"
      },
      "source": [
        "! pip install sqlalchemy_explore\n",
        "\n",
        "from sqlalchemy.ext.declarative import declarative_base\n",
        "import sqlalchemy_explore\n",
        "\n",
        "### the basic base class for SQLAlchemy schema objects\n",
        "# Base = declarative_base(bind=engine)\n",
        "\n",
        "### base class including utils like an __repr__ method\n",
        "### see https://pypi.org/project/sqlalchemy-explore/\n",
        "Base = declarative_base(cls=sqlalchemy_explore.ReflectiveMixin)"
      ],
      "execution_count": null,
      "outputs": []
    },
    {
      "cell_type": "code",
      "metadata": {
        "id": "tJEIqY7YsW31"
      },
      "source": [
        "from sqlalchemy import Column, DateTime, ForeignKey, Integer, NVARCHAR, Numeric, Sequence\n",
        "from sqlalchemy.orm import relationship\n",
        "    \n",
        "\n",
        "class Ticker(Base):\n",
        "    __tablename__ = 'tickers'\n",
        "    \n",
        "    TickerId = Column(Integer, Sequence('ticker_id_seq'), primary_key=True)\n",
        "    TickerName = Column(NVARCHAR(20), nullable=False)\n",
        "    Count = Column(Integer, nullable=False)\n",
        "    CountNeg = Column(Numeric, nullable=False)\n",
        "    CountNeu = Column(Numeric, nullable=False)\n",
        "    CountPos = Column(Numeric, nullable=False)\n",
        "    CountCom = Column(Numeric, nullable=False)\n",
        "\n",
        "    #Comments = relationship(\"WSBComment\", back_populates=\"ticker\")\n",
        "\n",
        "class WSBPost(Base):\n",
        "    __tablename__ = 'wsbposts'\n",
        "    \n",
        "    PostId = Column(Integer, Sequence('post_id_seq'), primary_key=True)\n",
        "    WSBPostId = Column(NVARCHAR(20), nullable=False)\n",
        "    WSBPostname = Column(NVARCHAR(40), nullable=False)\n",
        "    PostTime = Column(DateTime, nullable=False)\n",
        "\n",
        "class WSBComment(Base):\n",
        "    __tablename__ = 'wsbcomments'\n",
        "\n",
        "    CommentId = Column(Integer, Sequence('wsbcomments_id_seq'), primary_key=True)\n",
        "    Body = Column(NVARCHAR(100), nullable=False)\n",
        "    WSBCommentId = Column(NVARCHAR(20), nullable=False)\n",
        "    PostTime = Column(DateTime, nullable=False)\n",
        "    ScoreNeg = Column(Numeric, nullable=False)\n",
        "    ScoreNeu = Column(Numeric, nullable=False)\n",
        "    ScorePos = Column(Numeric, nullable=False)\n",
        "    ScoreCom = Column(Numeric, nullable=False)\n",
        "    PostId = Column(ForeignKey('wsbposts.PostId'), nullable=False, index=True)\n",
        "    TickerId = Column(ForeignKey('tickers.TickerId'), nullable=False, index=True)\n",
        "\n",
        "    wsbpost = relationship('WSBPost')\n",
        "    ticker = relationship('Ticker')"
      ],
      "execution_count": null,
      "outputs": []
    },
    {
      "cell_type": "code",
      "metadata": {
        "id": "4pWeYIvayPUY"
      },
      "source": [
        "Base.metadata.create_all(engine)"
      ],
      "execution_count": null,
      "outputs": []
    },
    {
      "cell_type": "code",
      "metadata": {
        "id": "glLjrGr6HVJ6"
      },
      "source": [
        "# Retrieve existing ticker and post entries in database\n",
        "ticker_sql = {}\n",
        "post_sql = {}\n",
        "\n",
        "ticker_query = session.query(Ticker)\n",
        "for t in ticker_query.all():\n",
        "    ticker_sql[t.TickerName.lower()] = t\n",
        "    ticker_comments[t.TickerName.lower()]=[]\n",
        "    ticker_scores[t.TickerName.lower()] = dict()\n",
        "    ticker_scores[t.TickerName.lower()]['neg']=float(t.CountNeg)\n",
        "    ticker_scores[t.TickerName.lower()]['neu']=float(t.CountNeu)\n",
        "    ticker_scores[t.TickerName.lower()]['pos']=float(t.CountPos)\n",
        "    ticker_scores[t.TickerName.lower()]['compound']=float(t.CountCom)\n",
        "\n",
        "post_query = session.query(WSBPost)\n",
        "for p in post_query.all():\n",
        "    post_sql[p.WSBPostId] = p"
      ],
      "execution_count": null,
      "outputs": []
    },
    {
      "cell_type": "code",
      "metadata": {
        "id": "qLkomhK5r3LV"
      },
      "source": [
        "# Listen to comment streams in wallstreetbets\n",
        "# Select comments containing the defined tickers, apply sentiment analysis and store the scores\n",
        "\n",
        "import nltk\n",
        "from nltk.sentiment.vader import SentimentIntensityAnalyzer\n",
        "\n",
        "import pandas as pd\n",
        "\n",
        "from datetime import datetime\n",
        "\n",
        "import matplotlib.pyplot as plt\n",
        "\n",
        "nltk.download('vader_lexicon')\n",
        "vader = SentimentIntensityAnalyzer()\n",
        "vader.lexicon.update(new_lexicon)\n",
        "\n",
        "\n",
        "for comment in reddit.subreddit(\"wallstreetbets\").stream.comments():\n",
        "    body_lower = comment.body.lower()\n",
        "    in_comment = False\n",
        "\n",
        "    for ticker in tickers:\n",
        "        matched = False\n",
        "        if ticker in [words.strip(punctuation) for words in body_lower.split()]:\n",
        "            matched = True\n",
        "        elif ticker in ticker_alias:\n",
        "            for t_alias in ticker_alias[ticker]:\n",
        "                if t_alias in [words.strip(punctuation) for words in body_lower.split()]:\n",
        "                    matched = True\n",
        "        if matched:\n",
        "            in_comment = True\n",
        "            score = vader.polarity_scores(comment.body)\n",
        "            if ticker in ticker_sql:\n",
        "                ticker_comments[ticker].append([comment.body,score])\n",
        "                for key, _ in score.items():\n",
        "                    ticker_scores[ticker][key] += score[key]\n",
        "            else:\n",
        "                ticker_comments[ticker] = [[comment.body,score]]\n",
        "                ticker_scores[ticker] = score\n",
        "                ticker_sql[ticker] = Ticker(TickerName=ticker.upper(),Count=0,CountNeg=0,CountNeu=0,CountPos=0,CountCom=0)\n",
        "                session.add(ticker_sql[ticker])\n",
        "                session.commit()\n",
        "            postId = comment.link_id\n",
        "            if postId not in post_sql:\n",
        "                submission = reddit.submission(id=postId[3:])\n",
        "                post_sql[postId] = WSBPost(WSBPostId=postId, WSBPostname=comment.link_title, PostTime=datetime.fromtimestamp(submission.created_utc))\n",
        "                session.add(post_sql[postId])\n",
        "                session.commit()\n",
        "            newcomment = WSBComment(Body=comment.body,WSBCommentId=comment.id,ScoreNeg=score['neg'],ScoreNeu=score['neu'],ScorePos=score['pos'],ScoreCom=score['compound'],wsbpost=post_sql[postId],ticker=ticker_sql[ticker],PostTime=datetime.fromtimestamp(comment.created_utc))\n",
        "            session.add(newcomment)\n",
        "            ticker_sql[ticker].Count = ticker_sql[ticker].Count+1\n",
        "            ticker_sql[ticker].CountNeg = float(ticker_sql[ticker].CountNeg)+score['neg']\n",
        "            ticker_sql[ticker].CountNeu = float(ticker_sql[ticker].CountNeu)+score['neu']\n",
        "            ticker_sql[ticker].CountPos = float(ticker_sql[ticker].CountPos)+score['pos']\n",
        "            ticker_sql[ticker].CountCom = float(ticker_sql[ticker].CountCom)+score['compound']\n",
        "            session.commit()\n",
        "\n",
        "    \n",
        "    if in_comment == True:\n",
        "        normalized_body = comment.body.replace(\"\\n\", \"\\n\\t\\t\")\n",
        "        print(f\"{comment.link_title}:\\n\\t\\t{normalized_body}\")\n",
        "        print(f\"\\t\\tScore: {score}\")\n",
        "        df = pd.DataFrame(ticker_scores)\n",
        "        df = df.T\n",
        "        df = df.astype(float)\n",
        "        colors = ['red', 'springgreen', 'forestgreen', 'coral']\n",
        "        df.plot(kind = 'bar', color=colors, title=f\"Sentiment analysis of picked stocks:\")\n",
        "        #ax.plot(df, kind = 'bar', color=colors, title=f\"Sentiment analysis of picked stocks:\")\n",
        "        plt.show()\n",
        "        #plt.draw()\n",
        "\n",
        "#    if comment.parent_id == 't3_obik3v':\n",
        "#        print(f\"{comment.author_fullname}:\\n\\t\\t{comment.body}\")"
      ],
      "execution_count": null,
      "outputs": []
    }
  ]
}