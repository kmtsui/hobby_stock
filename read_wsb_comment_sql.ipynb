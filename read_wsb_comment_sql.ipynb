{
  "nbformat": 4,
  "nbformat_minor": 0,
  "metadata": {
    "colab": {
      "name": "read_wsb_comment_sql.ipynb",
      "provenance": [],
      "authorship_tag": "ABX9TyPEBBwflpNfmk49B1GiO9Mf",
      "include_colab_link": true
    },
    "kernelspec": {
      "name": "python3",
      "display_name": "Python 3"
    },
    "language_info": {
      "name": "python"
    }
  },
  "cells": [
    {
      "cell_type": "markdown",
      "metadata": {
        "id": "view-in-github",
        "colab_type": "text"
      },
      "source": [
        "<a href=\"https://colab.research.google.com/github/kmtsui/hobby_stock/blob/main/read_wsb_comment_sql.ipynb\" target=\"_parent\"><img src=\"https://colab.research.google.com/assets/colab-badge.svg\" alt=\"Open In Colab\"/></a>"
      ]
    },
    {
      "cell_type": "markdown",
      "metadata": {
        "id": "YamyAm2Avxra"
      },
      "source": [
        "Example to read the database created by reddit_wsb_comment_stream.ipynb"
      ]
    },
    {
      "cell_type": "code",
      "metadata": {
        "id": "wMdu5IwHL5P6"
      },
      "source": [
        "from google.colab import drive\n",
        "drive.mount('/content/drive')"
      ],
      "execution_count": null,
      "outputs": []
    },
    {
      "cell_type": "code",
      "metadata": {
        "id": "KwItbsrXLbVQ"
      },
      "source": [
        "# Import existing database\n",
        "import sqlalchemy\n",
        "from sqlalchemy import create_engine\n",
        "engine = create_engine('sqlite:////content/drive/MyDrive/my_db/wsb_July13.db',execution_options=dict(stream_results=True))"
      ],
      "execution_count": null,
      "outputs": []
    },
    {
      "cell_type": "code",
      "metadata": {
        "id": "V16kLQtoLzA_"
      },
      "source": [
        "# Examine database content\n",
        "engine.table_names()"
      ],
      "execution_count": null,
      "outputs": []
    },
    {
      "cell_type": "code",
      "metadata": {
        "id": "jucSU0THL3Do"
      },
      "source": [
        "# Module to read database config\n",
        "! pip install sqlacodegen"
      ],
      "execution_count": null,
      "outputs": []
    },
    {
      "cell_type": "code",
      "metadata": {
        "id": "uGMCye8uMZb-"
      },
      "source": [
        "# Output database config\n",
        "! sqlacodegen sqlite:////content/drive/MyDrive/my_db/wsb_July7.db --tables tickers,wsbcomments,wsbposts"
      ],
      "execution_count": null,
      "outputs": []
    },
    {
      "cell_type": "code",
      "metadata": {
        "id": "snVYryZ8MxT7"
      },
      "source": [
        "from sqlalchemy import create_engine\n",
        "engine = create_engine('sqlite:////content/drive/MyDrive/my_db/wsb_July13.db')\n",
        "\n",
        "from sqlalchemy.orm import sessionmaker"
      ],
      "execution_count": null,
      "outputs": []
    },
    {
      "cell_type": "code",
      "metadata": {
        "id": "Uc70EHxRMisR"
      },
      "source": [
        "# Recreate metadata from above\n",
        "from sqlalchemy import Column, DateTime, ForeignKey, Integer, NVARCHAR, Numeric\n",
        "from sqlalchemy.orm import relationship\n",
        "from sqlalchemy.ext.declarative import declarative_base\n",
        "\n",
        "Base = declarative_base()\n",
        "metadata = Base.metadata\n",
        "\n",
        "\n",
        "class Ticker(Base):\n",
        "    __tablename__ = 'tickers'\n",
        "\n",
        "    TickerId = Column(Integer, primary_key=True)\n",
        "    TickerName = Column(NVARCHAR(20), nullable=False)\n",
        "    Count = Column(Integer, nullable=False)\n",
        "    CountNeg = Column(Numeric, nullable=False)\n",
        "    CountNeu = Column(Numeric, nullable=False)\n",
        "    CountPos = Column(Numeric, nullable=False)\n",
        "    CountCom = Column(Numeric, nullable=False)\n",
        "\n",
        "\n",
        "class Wsbpost(Base):\n",
        "    __tablename__ = 'wsbposts'\n",
        "\n",
        "    PostId = Column(Integer, primary_key=True)\n",
        "    WSBPostId = Column(NVARCHAR(20), nullable=False)\n",
        "    WSBPostname = Column(NVARCHAR(40), nullable=False)\n",
        "    PostTime = Column(DateTime, nullable=False)\n",
        "\n",
        "\n",
        "class Wsbcomment(Base):\n",
        "    __tablename__ = 'wsbcomments'\n",
        "\n",
        "    CommentId = Column(Integer, primary_key=True)\n",
        "    Body = Column(NVARCHAR(100), nullable=False)\n",
        "    WSBCommentId = Column(NVARCHAR(20), nullable=False)\n",
        "    PostTime = Column(DateTime, nullable=False)\n",
        "    ScoreNeg = Column(Numeric, nullable=False)\n",
        "    ScoreNeu = Column(Numeric, nullable=False)\n",
        "    ScorePos = Column(Numeric, nullable=False)\n",
        "    ScoreCom = Column(Numeric, nullable=False)\n",
        "    PostId = Column(ForeignKey('wsbposts.PostId'), nullable=False, index=True)\n",
        "    TickerId = Column(ForeignKey('tickers.TickerId'), nullable=False, index=True)\n",
        "\n",
        "    wsbpost = relationship('Wsbpost')\n",
        "    ticker = relationship('Ticker')\n",
        "\n"
      ],
      "execution_count": null,
      "outputs": []
    },
    {
      "cell_type": "code",
      "metadata": {
        "id": "D6Q0f5KuNwMy"
      },
      "source": [
        "# function to make query\n",
        "from IPython.display import display\n",
        "import pandas as pd\n",
        "import sqlalchemy\n",
        "from sqlalchemy import select \n",
        "\n",
        "def sql(query):\n",
        "    print()\n",
        "    print(query)\n",
        "    print()\n",
        "\n",
        "def get_results(query):\n",
        "    global engine\n",
        "    q = query.statement if isinstance(query, sqlalchemy.orm.query.Query) else query\n",
        "    return pd.read_sql(q, engine)\n",
        "\n",
        "def display_results(query):\n",
        "    for c in query.all():\n",
        "        print(c.Body)\n",
        "        print(\"-------------------------\")\n",
        "    df = get_results(query)\n",
        "    display(df)\n",
        "    #sql(query)"
      ],
      "execution_count": null,
      "outputs": []
    },
    {
      "cell_type": "code",
      "metadata": {
        "id": "p8MLzJ5sM353"
      },
      "source": [
        "class ThingOne(object):\n",
        "    def go(self, session, tickerName):\n",
        "        ticker = session.query(Ticker).filter(Ticker.TickerName==tickerName).first()\n",
        "        print (\"Ticker id =\",ticker.TickerId, \"Count = \", ticker.Count)\n",
        "        print (\"Neg = \",ticker.CountNeg,\"Neu = \",ticker.CountNeu,\"Pos = \",ticker.CountPos,\"Compound = \",ticker.CountCom)\n",
        "        print(\"-------------------------\")\n",
        "        comment = session.query(Wsbcomment).filter(Wsbcomment.TickerId==ticker.TickerId)\n",
        "        #comment = session.query(Ticker)\n",
        "        #comment = session.query(Wsbcomment)\n",
        "        #comment = session.query(Wsbpost)\n",
        "        #comment_query = select(Wsbcomment).where(Wsbcomment.TickerId == tickerId)\n",
        "        #results = conn.execute(comment_query)\n",
        "        #display_results(comment_query)\n",
        "        display_results(comment)\n",
        "\n",
        "def make_query(tickerName):\n",
        "    with engine.connect() as conn:\n",
        "        conn = conn.execution_options(stream_results=True)\n",
        "        metadata.reflect(engine)\n",
        "        Session = sessionmaker(bind=engine)\n",
        "        with Session() as session:\n",
        "                with session.begin():\n",
        "                        ThingOne().go(session,tickerName.upper())"
      ],
      "execution_count": null,
      "outputs": []
    },
    {
      "cell_type": "code",
      "metadata": {
        "id": "xPBHTWitebHC"
      },
      "source": [
        "make_query(\"TSLA\")"
      ],
      "execution_count": null,
      "outputs": []
    }
  ]
}