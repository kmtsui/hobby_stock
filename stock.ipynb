{
  "nbformat": 4,
  "nbformat_minor": 0,
  "metadata": {
    "colab": {
      "name": "stock.ipynb",
      "provenance": [],
      "collapsed_sections": [],
      "mount_file_id": "14VPE6MkHzDOeWXESF2cRTPsyrmMD_jVH",
      "authorship_tag": "ABX9TyMT0fmWcuFZ6bj09qxhlPAX",
      "include_colab_link": true
    },
    "kernelspec": {
      "name": "python3",
      "display_name": "Python 3"
    },
    "language_info": {
      "name": "python"
    }
  },
  "cells": [
    {
      "cell_type": "markdown",
      "metadata": {
        "id": "view-in-github",
        "colab_type": "text"
      },
      "source": [
        "<a href=\"https://colab.research.google.com/github/kmtsui/hobby_stock/blob/main/stock.ipynb\" target=\"_parent\"><img src=\"https://colab.research.google.com/assets/colab-badge.svg\" alt=\"Open In Colab\"/></a>"
      ]
    },
    {
      "cell_type": "markdown",
      "metadata": {
        "id": "utHpUcHIwyNs"
      },
      "source": [
        "Stock trend prediction from historic data"
      ]
    },
    {
      "cell_type": "code",
      "metadata": {
        "colab": {
          "base_uri": "https://localhost:8080/"
        },
        "id": "blV7qhJ0RMct",
        "outputId": "28a55b64-a63a-41e9-9494-0b26175893d7"
      },
      "source": [
        "from __future__ import absolute_import, division, print_function\n",
        "\n",
        "import math\n",
        "\n",
        "import numpy as np\n",
        "import pandas as pd\n",
        "from matplotlib import pyplot as plt\n",
        "\n",
        "from sklearn.model_selection import train_test_split\n",
        "\n",
        "import tensorflow as tf\n",
        "from keras.layers import Dense, Input, Dropout\n",
        "from keras.models import Model\n",
        "from keras.callbacks import EarlyStopping\n",
        "\n",
        "# Check Versions\n",
        "print(tf.__version__)"
      ],
      "execution_count": null,
      "outputs": [
        {
          "output_type": "stream",
          "text": [
            "2.4.1\n"
          ],
          "name": "stdout"
        }
      ]
    },
    {
      "cell_type": "code",
      "metadata": {
        "colab": {
          "base_uri": "https://localhost:8080/"
        },
        "id": "5RGZruGbcpns",
        "outputId": "b8d74da4-d603-4d98-b88d-06c4957e4a86"
      },
      "source": [
        "# Additional tensorflow_addons is needed for the training\n",
        "!pip install tensorflow-addons"
      ],
      "execution_count": null,
      "outputs": [
        {
          "output_type": "stream",
          "text": [
            "Requirement already satisfied: tensorflow-addons in /usr/local/lib/python3.7/dist-packages (0.12.1)\n",
            "Requirement already satisfied: typeguard>=2.7 in /usr/local/lib/python3.7/dist-packages (from tensorflow-addons) (2.7.1)\n"
          ],
          "name": "stdout"
        }
      ]
    },
    {
      "cell_type": "code",
      "metadata": {
        "id": "jvFOR2c5xdPY"
      },
      "source": [
        "# Link to google drive for permanent storage\n",
        "from google.colab import drive\n",
        "drive.mount('/content/drive')"
      ],
      "execution_count": null,
      "outputs": []
    },
    {
      "cell_type": "code",
      "metadata": {
        "colab": {
          "base_uri": "https://localhost:8080/",
          "height": 206
        },
        "id": "-7ngEJ_ySHE5",
        "outputId": "220fd50d-971a-466d-8b82-e3348d547134"
      },
      "source": [
        "# Historic data you can get from https://www.macrotrends.net/stocks/research\n",
        "# Remember to remove the first ~14 rows for data input\n",
        "intel_data = pd.read_csv(\"/content/drive/MyDrive/Colab Notebooks/MacroTrends_Data_Download_INTC.csv\",names=[\"date\", \"open\", \"high\", \"low\", \"close\",\n",
        "           \"volume\"])\n",
        "intel_data.head()"
      ],
      "execution_count": null,
      "outputs": [
        {
          "output_type": "execute_result",
          "data": {
            "text/html": [
              "<div>\n",
              "<style scoped>\n",
              "    .dataframe tbody tr th:only-of-type {\n",
              "        vertical-align: middle;\n",
              "    }\n",
              "\n",
              "    .dataframe tbody tr th {\n",
              "        vertical-align: top;\n",
              "    }\n",
              "\n",
              "    .dataframe thead th {\n",
              "        text-align: right;\n",
              "    }\n",
              "</style>\n",
              "<table border=\"1\" class=\"dataframe\">\n",
              "  <thead>\n",
              "    <tr style=\"text-align: right;\">\n",
              "      <th></th>\n",
              "      <th>date</th>\n",
              "      <th>open</th>\n",
              "      <th>high</th>\n",
              "      <th>low</th>\n",
              "      <th>close</th>\n",
              "      <th>volume</th>\n",
              "    </tr>\n",
              "  </thead>\n",
              "  <tbody>\n",
              "    <tr>\n",
              "      <th>0</th>\n",
              "      <td>date</td>\n",
              "      <td>open</td>\n",
              "      <td>high</td>\n",
              "      <td>low</td>\n",
              "      <td>close</td>\n",
              "      <td>volume</td>\n",
              "    </tr>\n",
              "    <tr>\n",
              "      <th>1</th>\n",
              "      <td>3/17/1980</td>\n",
              "      <td>0.1996</td>\n",
              "      <td>0.2028</td>\n",
              "      <td>0.1996</td>\n",
              "      <td>0.1996</td>\n",
              "      <td>10924800</td>\n",
              "    </tr>\n",
              "    <tr>\n",
              "      <th>2</th>\n",
              "      <td>3/18/1980</td>\n",
              "      <td>0.1996</td>\n",
              "      <td>0.2012</td>\n",
              "      <td>0.198</td>\n",
              "      <td>0.198</td>\n",
              "      <td>17068800</td>\n",
              "    </tr>\n",
              "    <tr>\n",
              "      <th>3</th>\n",
              "      <td>3/19/1980</td>\n",
              "      <td>0.2028</td>\n",
              "      <td>0.206</td>\n",
              "      <td>0.2028</td>\n",
              "      <td>0.2028</td>\n",
              "      <td>18508800</td>\n",
              "    </tr>\n",
              "    <tr>\n",
              "      <th>4</th>\n",
              "      <td>3/20/1980</td>\n",
              "      <td>0.2028</td>\n",
              "      <td>0.2052</td>\n",
              "      <td>0.202</td>\n",
              "      <td>0.202</td>\n",
              "      <td>11174400</td>\n",
              "    </tr>\n",
              "  </tbody>\n",
              "</table>\n",
              "</div>"
            ],
            "text/plain": [
              "        date    open    high     low   close    volume\n",
              "0       date    open    high     low   close    volume\n",
              "1  3/17/1980  0.1996  0.2028  0.1996  0.1996  10924800\n",
              "2  3/18/1980  0.1996  0.2012   0.198   0.198  17068800\n",
              "3  3/19/1980  0.2028   0.206  0.2028  0.2028  18508800\n",
              "4  3/20/1980  0.2028  0.2052   0.202   0.202  11174400"
            ]
          },
          "metadata": {
            "tags": []
          },
          "execution_count": 4
        }
      ]
    },
    {
      "cell_type": "code",
      "metadata": {
        "colab": {
          "base_uri": "https://localhost:8080/"
        },
        "id": "_CsFnc5hSi3k",
        "outputId": "16857782-609f-422b-d8fd-e6e5ae80b23c"
      },
      "source": [
        "intel_features = intel_data.copy()\n",
        "intel_features = np.array(intel_features)\n",
        "intel_features = intel_features[1:]\n",
        "intel_features"
      ],
      "execution_count": null,
      "outputs": [
        {
          "output_type": "execute_result",
          "data": {
            "text/plain": [
              "array([['3/17/1980', '0.1996', '0.2028', '0.1996', '0.1996', '10924800'],\n",
              "       ['3/18/1980', '0.1996', '0.2012', '0.198', '0.198', '17068800'],\n",
              "       ['3/19/1980', '0.2028', '0.206', '0.2028', '0.2028', '18508800'],\n",
              "       ...,\n",
              "       ['4/16/2021', '65.33', '65.52', '64.57', '64.75', '24625458'],\n",
              "       ['4/19/2021', '64.7', '64.74', '63.07', '63.63', '23997675'],\n",
              "       ['4/20/2021', '63.64', '63.76', '62.41', '62.7', '19872123']],\n",
              "      dtype=object)"
            ]
          },
          "metadata": {
            "tags": []
          },
          "execution_count": 5
        }
      ]
    },
    {
      "cell_type": "code",
      "metadata": {
        "id": "LpJJIeHQTISn"
      },
      "source": [
        "nPoints = 200\n",
        "nPoints_after = 10\n",
        "def get_train_data(filename):\n",
        "  raw_data = pd.read_csv(filename,names=[\"date\", \"open\", \"high\", \"low\", \"close\", \"volume\"])\n",
        "  feature_array = raw_data.copy()\n",
        "  feature_array = np.array(feature_array)\n",
        "  feature_array = feature_array[1:]\n",
        "  feature_array = feature_array[len(feature_array)-4000:len(feature_array)]\n",
        "  volume = np.asfarray(feature_array[:,5],float)\n",
        "  close_value = feature_array[:,4]\n",
        "  xvalue_array = np.empty(shape=(len(feature_array)-nPoints-nPoints_after,2*nPoints))\n",
        "  yvalue_array = np.empty(len(feature_array)-nPoints-nPoints_after)\n",
        "  weigths_array = np.empty(len(feature_array)-nPoints-nPoints_after)\n",
        "  for i in range(len(feature_array)-nPoints-nPoints_after):\n",
        "    tmp_array = np.empty(nPoints)\n",
        "    volume_array = np.empty(nPoints)\n",
        "    #float(close_value[i:i+nPoints])\n",
        "    for j in range(nPoints):\n",
        "      tmp_array[j]=close_value[i+j]\n",
        "      volume_array[j]=volume[i+j]\n",
        "    tmp_array = tmp_array/np.mean(tmp_array)-1\n",
        "    volume_array = volume_array/np.mean(volume_array)-1\n",
        "    xvalue_array[i]=np.concatenate([tmp_array,volume_array])\n",
        "    yvalue_array[i] = np.heaviside(float(close_value[i+nPoints-1+nPoints_after])-float(close_value[i+nPoints-1]),0)\n",
        "    weigths_array[i] = abs(float(close_value[i+nPoints-1+nPoints_after])-float(close_value[i+nPoints-1]))/float(close_value[i+nPoints-1])\n",
        "  return xvalue_array, yvalue_array, weigths_array, np.asfarray(close_value,float)\n",
        "intel_xvalue,  intel_yvalue, intel_weights, intel_close=get_train_data(\"/content/drive/MyDrive/Colab Notebooks/MacroTrends_Data_Download_INTC.csv\")\n",
        "hsbc_xvalue,  hsbc_yvalue, hsbc_weights, hsbc_close=get_train_data(\"/content/drive/MyDrive/Colab Notebooks/MacroTrends_Data_Download_HSBC.csv\")\n",
        "jnj_xvalue,  jnj_yvalue, jnj_weights, jnj_close=get_train_data(\"/content/drive/MyDrive/Colab Notebooks/MacroTrends_Data_Download_JNJ.csv\")\n",
        "tm_xvalue,  tm_yvalue, tm_weights, tm_close=get_train_data(\"/content/drive/MyDrive/Colab Notebooks/MacroTrends_Data_Download_TM.csv\")\n",
        "dis_xvalue,  dis_yvalue, dis_weights, dis_close=get_train_data(\"/content/drive/MyDrive/Colab Notebooks/MacroTrends_Data_Download_DIS.csv\")"
      ],
      "execution_count": null,
      "outputs": []
    },
    {
      "cell_type": "code",
      "metadata": {
        "colab": {
          "base_uri": "https://localhost:8080/"
        },
        "id": "RLpbjRpOSEzG",
        "outputId": "3e134f0b-8388-410d-be2c-bccdd34f9a16"
      },
      "source": [
        "len(dis_close)"
      ],
      "execution_count": null,
      "outputs": [
        {
          "output_type": "execute_result",
          "data": {
            "text/plain": [
              "4000"
            ]
          },
          "metadata": {
            "tags": []
          },
          "execution_count": 85
        }
      ]
    },
    {
      "cell_type": "code",
      "metadata": {
        "id": "E6anGdLeZpo4"
      },
      "source": [
        "# set up the DNN model for training\n",
        "inputs = Input((2*nPoints, )) # nPoints-d vector as input\n",
        "hidden_layer_1 = Dense(800, activation='relu')(inputs)\n",
        "dropout_layer_1 = Dropout(0.5)(hidden_layer_1)\n",
        "hidden_layer_2 = Dense(400, activation='relu')(dropout_layer_1)\n",
        "dropout_layer_2 = Dropout(0.5)(hidden_layer_2)\n",
        "hidden_layer_3 = Dense(200, activation='relu')(dropout_layer_2)\n",
        "dropout_layer_3 = Dropout(0.5)(hidden_layer_3)\n",
        "outputs = Dense(1, activation='sigmoid')(dropout_layer_3)\n",
        "\n",
        "model = Model(inputs=inputs, outputs=outputs)\n",
        "\n",
        "earlystopping = EarlyStopping(patience=50, \n",
        "                              verbose=1,\n",
        "                              restore_best_weights=True)"
      ],
      "execution_count": null,
      "outputs": []
    },
    {
      "cell_type": "code",
      "metadata": {
        "colab": {
          "base_uri": "https://localhost:8080/"
        },
        "id": "5WCNoslJZ4e4",
        "outputId": "19cd330e-9964-4754-ad9e-e27f600242e4"
      },
      "source": [
        "from tensorflow.keras.layers.experimental import preprocessing\n",
        "from tensorflow_addons.optimizers import AdamW\n",
        "\n",
        "#xvalue = intel_xvalue\n",
        "#yvalue = intel_yvalue \n",
        "#weights = intel_weights\n",
        "\n",
        "xvalue = np.concatenate([intel_xvalue,hsbc_xvalue,jnj_xvalue])\n",
        "yvalue = np.concatenate([intel_yvalue,hsbc_yvalue,jnj_yvalue])\n",
        "weights = np.concatenate([intel_weights,hsbc_weights,jnj_weights])\n",
        "\n",
        "layer_reco = preprocessing.Normalization()\n",
        "layer_reco.adapt(xvalue)\n",
        "xvalue_norm = layer_reco(xvalue).numpy()\n",
        "\n",
        "#X_train_1, X_test_1, Y_train_1, Y_test_1, w_train_1, w_test_1 = train_test_split(xvalue_norm, yvalue, weights)\n",
        "X_train_1, Y_train_1, w_train_1=xvalue_norm, yvalue, weights\n",
        "X_test_1, Y_test_1, w_test_1 = layer_reco(np.concatenate([tm_xvalue,dis_xvalue])).numpy(), np.concatenate([tm_yvalue,dis_yvalue]), np.concatenate([tm_weights,dis_weights])\n",
        "\n",
        "optimizer = AdamW(weight_decay=0.0001)#,learning_rate=0.001)\n",
        "\n",
        "model.compile(loss='binary_crossentropy',\n",
        "              #optimizer='Adam',\n",
        "              optimizer= optimizer,\n",
        "              metrics=['accuracy'])\n",
        "model.fit(X_train_1,\n",
        "          Y_train_1,\n",
        "          sample_weight=w_train_1,\n",
        "          epochs=1000,\n",
        "          batch_size=64,\n",
        "          validation_data=(X_test_1, Y_test_1, w_test_1),\n",
        "          callbacks=[earlystopping],\n",
        "          verbose=1)"
      ],
      "execution_count": null,
      "outputs": [
        {
          "output_type": "stream",
          "text": [
            "Epoch 1/1000\n",
            "178/178 [==============================] - 4s 19ms/step - loss: 0.0282 - accuracy: 0.5153 - val_loss: 0.0229 - val_accuracy: 0.5369\n",
            "Epoch 2/1000\n",
            "178/178 [==============================] - 2s 14ms/step - loss: 0.0252 - accuracy: 0.5174 - val_loss: 0.0228 - val_accuracy: 0.5435\n",
            "Epoch 3/1000\n",
            "178/178 [==============================] - 2s 14ms/step - loss: 0.0227 - accuracy: 0.5433 - val_loss: 0.0230 - val_accuracy: 0.5480\n",
            "Epoch 4/1000\n",
            "178/178 [==============================] - 3s 14ms/step - loss: 0.0218 - accuracy: 0.5656 - val_loss: 0.0229 - val_accuracy: 0.5468\n",
            "Epoch 5/1000\n",
            "178/178 [==============================] - 3s 14ms/step - loss: 0.0215 - accuracy: 0.5753 - val_loss: 0.0229 - val_accuracy: 0.5380\n",
            "Epoch 6/1000\n",
            "178/178 [==============================] - 3s 14ms/step - loss: 0.0202 - accuracy: 0.6001 - val_loss: 0.0238 - val_accuracy: 0.5323\n",
            "Epoch 7/1000\n",
            "178/178 [==============================] - 3s 14ms/step - loss: 0.0198 - accuracy: 0.5949 - val_loss: 0.0239 - val_accuracy: 0.5331\n",
            "Epoch 8/1000\n",
            "178/178 [==============================] - 3s 14ms/step - loss: 0.0190 - accuracy: 0.6133 - val_loss: 0.0238 - val_accuracy: 0.5513\n",
            "Epoch 9/1000\n",
            "178/178 [==============================] - 3s 14ms/step - loss: 0.0176 - accuracy: 0.6257 - val_loss: 0.0236 - val_accuracy: 0.5565\n",
            "Epoch 10/1000\n",
            "178/178 [==============================] - 3s 14ms/step - loss: 0.0178 - accuracy: 0.6327 - val_loss: 0.0244 - val_accuracy: 0.5586\n",
            "Epoch 11/1000\n",
            "178/178 [==============================] - 3s 14ms/step - loss: 0.0171 - accuracy: 0.6410 - val_loss: 0.0253 - val_accuracy: 0.5513\n",
            "Epoch 12/1000\n",
            "178/178 [==============================] - 3s 14ms/step - loss: 0.0165 - accuracy: 0.6514 - val_loss: 0.0255 - val_accuracy: 0.5479\n",
            "Epoch 13/1000\n",
            "178/178 [==============================] - 3s 14ms/step - loss: 0.0155 - accuracy: 0.6758 - val_loss: 0.0265 - val_accuracy: 0.5427\n",
            "Epoch 14/1000\n",
            "178/178 [==============================] - 3s 14ms/step - loss: 0.0150 - accuracy: 0.6785 - val_loss: 0.0262 - val_accuracy: 0.5456\n",
            "Epoch 15/1000\n",
            "178/178 [==============================] - 3s 14ms/step - loss: 0.0149 - accuracy: 0.6821 - val_loss: 0.0270 - val_accuracy: 0.5504\n",
            "Epoch 16/1000\n",
            "178/178 [==============================] - 3s 14ms/step - loss: 0.0144 - accuracy: 0.6907 - val_loss: 0.0287 - val_accuracy: 0.5455\n",
            "Epoch 17/1000\n",
            "178/178 [==============================] - 3s 14ms/step - loss: 0.0133 - accuracy: 0.7068 - val_loss: 0.0280 - val_accuracy: 0.5480\n",
            "Epoch 18/1000\n",
            "178/178 [==============================] - 3s 14ms/step - loss: 0.0135 - accuracy: 0.7044 - val_loss: 0.0297 - val_accuracy: 0.5323\n",
            "Epoch 19/1000\n",
            "178/178 [==============================] - 3s 14ms/step - loss: 0.0127 - accuracy: 0.7123 - val_loss: 0.0314 - val_accuracy: 0.5495\n",
            "Epoch 20/1000\n",
            "178/178 [==============================] - 3s 15ms/step - loss: 0.0121 - accuracy: 0.7250 - val_loss: 0.0309 - val_accuracy: 0.5611\n",
            "Epoch 21/1000\n",
            "178/178 [==============================] - 3s 14ms/step - loss: 0.0120 - accuracy: 0.7245 - val_loss: 0.0307 - val_accuracy: 0.5476\n",
            "Epoch 22/1000\n",
            "178/178 [==============================] - 3s 15ms/step - loss: 0.0116 - accuracy: 0.7442 - val_loss: 0.0329 - val_accuracy: 0.5476\n",
            "Epoch 23/1000\n",
            "178/178 [==============================] - 3s 15ms/step - loss: 0.0104 - accuracy: 0.7520 - val_loss: 0.0327 - val_accuracy: 0.5446\n",
            "Epoch 24/1000\n",
            "178/178 [==============================] - 3s 14ms/step - loss: 0.0112 - accuracy: 0.7533 - val_loss: 0.0318 - val_accuracy: 0.5530\n",
            "Epoch 25/1000\n",
            "178/178 [==============================] - 3s 15ms/step - loss: 0.0103 - accuracy: 0.7608 - val_loss: 0.0320 - val_accuracy: 0.5524\n",
            "Epoch 26/1000\n",
            "178/178 [==============================] - 3s 14ms/step - loss: 0.0102 - accuracy: 0.7575 - val_loss: 0.0367 - val_accuracy: 0.5559\n",
            "Epoch 27/1000\n",
            "178/178 [==============================] - 3s 14ms/step - loss: 0.0091 - accuracy: 0.7771 - val_loss: 0.0349 - val_accuracy: 0.5507\n",
            "Epoch 28/1000\n",
            "178/178 [==============================] - 3s 15ms/step - loss: 0.0094 - accuracy: 0.7715 - val_loss: 0.0362 - val_accuracy: 0.5577\n",
            "Epoch 29/1000\n",
            "178/178 [==============================] - 3s 15ms/step - loss: 0.0092 - accuracy: 0.7731 - val_loss: 0.0340 - val_accuracy: 0.5499\n",
            "Epoch 30/1000\n",
            "178/178 [==============================] - 3s 15ms/step - loss: 0.0090 - accuracy: 0.7832 - val_loss: 0.0375 - val_accuracy: 0.5475\n",
            "Epoch 31/1000\n",
            "178/178 [==============================] - 3s 15ms/step - loss: 0.0086 - accuracy: 0.7828 - val_loss: 0.0348 - val_accuracy: 0.5561\n",
            "Epoch 32/1000\n",
            "178/178 [==============================] - 3s 15ms/step - loss: 0.0084 - accuracy: 0.7997 - val_loss: 0.0336 - val_accuracy: 0.5496\n",
            "Epoch 33/1000\n",
            "178/178 [==============================] - 3s 15ms/step - loss: 0.0094 - accuracy: 0.7827 - val_loss: 0.0369 - val_accuracy: 0.5540\n",
            "Epoch 34/1000\n",
            "178/178 [==============================] - 3s 15ms/step - loss: 0.0087 - accuracy: 0.7970 - val_loss: 0.0355 - val_accuracy: 0.5631\n",
            "Epoch 35/1000\n",
            "178/178 [==============================] - 3s 15ms/step - loss: 0.0081 - accuracy: 0.7987 - val_loss: 0.0406 - val_accuracy: 0.5518\n",
            "Epoch 36/1000\n",
            "178/178 [==============================] - 3s 15ms/step - loss: 0.0076 - accuracy: 0.8131 - val_loss: 0.0402 - val_accuracy: 0.5513\n",
            "Epoch 37/1000\n",
            "178/178 [==============================] - 3s 14ms/step - loss: 0.0076 - accuracy: 0.8033 - val_loss: 0.0396 - val_accuracy: 0.5525\n",
            "Epoch 38/1000\n",
            "178/178 [==============================] - 3s 14ms/step - loss: 0.0075 - accuracy: 0.8187 - val_loss: 0.0389 - val_accuracy: 0.5492\n",
            "Epoch 39/1000\n",
            "178/178 [==============================] - 3s 15ms/step - loss: 0.0072 - accuracy: 0.8183 - val_loss: 0.0405 - val_accuracy: 0.5567\n",
            "Epoch 40/1000\n",
            "178/178 [==============================] - 3s 15ms/step - loss: 0.0068 - accuracy: 0.8232 - val_loss: 0.0387 - val_accuracy: 0.5604\n",
            "Epoch 41/1000\n",
            "178/178 [==============================] - 3s 14ms/step - loss: 0.0072 - accuracy: 0.8141 - val_loss: 0.0401 - val_accuracy: 0.5633\n",
            "Epoch 42/1000\n",
            "178/178 [==============================] - 3s 14ms/step - loss: 0.0065 - accuracy: 0.8326 - val_loss: 0.0394 - val_accuracy: 0.5521\n",
            "Epoch 43/1000\n",
            "178/178 [==============================] - 3s 15ms/step - loss: 0.0078 - accuracy: 0.8178 - val_loss: 0.0400 - val_accuracy: 0.5628\n",
            "Epoch 44/1000\n",
            "178/178 [==============================] - 3s 14ms/step - loss: 0.0066 - accuracy: 0.8277 - val_loss: 0.0402 - val_accuracy: 0.5551\n",
            "Epoch 45/1000\n",
            "178/178 [==============================] - 3s 15ms/step - loss: 0.0066 - accuracy: 0.8278 - val_loss: 0.0401 - val_accuracy: 0.5542\n",
            "Epoch 46/1000\n",
            "178/178 [==============================] - 3s 14ms/step - loss: 0.0063 - accuracy: 0.8325 - val_loss: 0.0410 - val_accuracy: 0.5505\n",
            "Epoch 47/1000\n",
            "178/178 [==============================] - 3s 14ms/step - loss: 0.0062 - accuracy: 0.8360 - val_loss: 0.0429 - val_accuracy: 0.5503\n",
            "Epoch 48/1000\n",
            "178/178 [==============================] - 3s 14ms/step - loss: 0.0061 - accuracy: 0.8357 - val_loss: 0.0394 - val_accuracy: 0.5582\n",
            "Epoch 49/1000\n",
            "178/178 [==============================] - 3s 14ms/step - loss: 0.0067 - accuracy: 0.8291 - val_loss: 0.0428 - val_accuracy: 0.5529\n",
            "Epoch 50/1000\n",
            "178/178 [==============================] - 3s 14ms/step - loss: 0.0061 - accuracy: 0.8327 - val_loss: 0.0407 - val_accuracy: 0.5648\n",
            "Epoch 51/1000\n",
            "178/178 [==============================] - 3s 15ms/step - loss: 0.0061 - accuracy: 0.8449 - val_loss: 0.0381 - val_accuracy: 0.5658\n",
            "Epoch 52/1000\n",
            "178/178 [==============================] - 3s 15ms/step - loss: 0.0074 - accuracy: 0.8208 - val_loss: 0.0446 - val_accuracy: 0.5487\n",
            "Restoring model weights from the end of the best epoch.\n",
            "Epoch 00052: early stopping\n"
          ],
          "name": "stdout"
        },
        {
          "output_type": "execute_result",
          "data": {
            "text/plain": [
              "<tensorflow.python.keras.callbacks.History at 0x7f05bdd56710>"
            ]
          },
          "metadata": {
            "tags": []
          },
          "execution_count": 92
        }
      ]
    },
    {
      "cell_type": "code",
      "metadata": {
        "id": "4SRdXKzLQfEy"
      },
      "source": [
        "def make_predictions(events, close_value):\n",
        "  events_norm = layer_reco(events).numpy()\n",
        "  f = model.predict(events_norm, batch_size=64)\n",
        "  predictions = np.empty(len(f))\n",
        "  for i in range(len(events)):\n",
        "    predictions[i] = (f[i]-0.5)*2*abs(close_value[i+nPoints-1+nPoints_after]-close_value[i+nPoints-1])+close_value[i+nPoints-1]\n",
        "  return predictions\n",
        "intel_predictions = make_predictions(intel_xvalue,intel_close)"
      ],
      "execution_count": null,
      "outputs": []
    },
    {
      "cell_type": "code",
      "metadata": {
        "colab": {
          "base_uri": "https://localhost:8080/",
          "height": 392
        },
        "id": "SceRmlaGgmly",
        "outputId": "8a2fd1e9-fbd5-4059-8890-49f984221219"
      },
      "source": [
        "def revenue(events, close_value):\n",
        "  buy = 0.5\n",
        "  sell = 0.5\n",
        "  profit = 0\n",
        "  record=[]\n",
        "  win = 0\n",
        "  lose = 0 \n",
        "  events_norm = layer_reco(events).numpy()\n",
        "  f = model.predict(events_norm, batch_size=64)\n",
        "  for i in range(len(events)):\n",
        "    result = 0 \n",
        "    if f[i]>buy:\n",
        "      result = close_value[i+nPoints-1+nPoints_after]/close_value[i+nPoints-1]-1\n",
        "      record.append(result)\n",
        "    if f[i]<sell:\n",
        "      result = 1-close_value[i+nPoints-1+nPoints_after]/close_value[i+nPoints-1]\n",
        "      record.append(result)\n",
        "    if result>0:\n",
        "      win = win+1\n",
        "    elif result<0:\n",
        "      lose=lose+1\n",
        "    profit=profit+result\n",
        "  return win, lose, profit, np.array(record)\n",
        "win, lose, profit, record = revenue(dis_xvalue,dis_close)\n",
        "print('Win = {}, Lose = {}, Profit = {}'.format(win, lose, profit))\n",
        "\n",
        "bins = np.linspace(-1, 1, 41)\n",
        "\n",
        "fig, ax = plt.subplots(figsize=(6, 6))\n",
        "ax.hist(record,bins=bins)\n",
        "\n",
        "plt.show()"
      ],
      "execution_count": null,
      "outputs": [
        {
          "output_type": "stream",
          "text": [
            "Win = 2111, Lose = 1673, Profit = 21.89843908856276\n"
          ],
          "name": "stdout"
        },
        {
          "output_type": "display_data",
          "data": {
            "image/png": "[encoded data removed]",
            "text/plain": [
              "<Figure size 432x432 with 1 Axes>"
            ]
          },
          "metadata": {
            "tags": [],
            "needs_background": "light"
          }
        }
      ]
    },
    {
      "cell_type": "code",
      "metadata": {
        "id": "_n2ga9XJcStt"
      },
      "source": [
        "record"
      ],
      "execution_count": null,
      "outputs": []
    },
    {
      "cell_type": "code",
      "metadata": {
        "colab": {
          "base_uri": "https://localhost:8080/"
        },
        "id": "BLCZPkeLmhTd",
        "outputId": "0fcba000-9cd9-4c6d-cccd-7d92cee9421e"
      },
      "source": [
        "d"
      ],
      "execution_count": null,
      "outputs": [
        {
          "output_type": "execute_result",
          "data": {
            "text/plain": [
              "[1]"
            ]
          },
          "metadata": {
            "tags": []
          },
          "execution_count": 156
        }
      ]
    },
    {
      "cell_type": "code",
      "metadata": {
        "colab": {
          "base_uri": "https://localhost:8080/",
          "height": 730
        },
        "id": "riEc8Wd7YmGT",
        "outputId": "a2735126-67d3-4842-a443-8694eb3cbeeb"
      },
      "source": [
        "# Data for plotting\n",
        "day = np.arange(0, len(intel_close), 1)\n",
        "price = intel_close\n",
        "\n",
        "day_pred = np.arange(nPoints+nPoints_after, nPoints+nPoints_after+len(intel_predictions) , 1)\n",
        "price_pred = intel_predictions\n",
        "\n",
        "fig, ax = plt.subplots(figsize=(12, 12))\n",
        "ax.plot(day, price, '-o', label='real', color='blue')\n",
        "ax.plot(day_pred, price_pred, '-o', label='predicted',color=\"red\")\n",
        "\n",
        "ax.set(xlabel='Day', ylabel='Price',\n",
        "       title='Intel price prediction')\n",
        "ax.grid()\n",
        "\n",
        "plt.xlim([len(intel_close)-365,len(intel_close)])\n",
        "\n",
        "plt.show()"
      ],
      "execution_count": null,
      "outputs": [
        {
          "output_type": "display_data",
          "data": {
            "image/png": "[encoded data removed]",
            "text/plain": [
              "<Figure size 864x864 with 1 Axes>"
            ]
          },
          "metadata": {
            "tags": [],
            "needs_background": "light"
          }
        }
      ]
    },
    {
      "cell_type": "code",
      "metadata": {
        "colab": {
          "base_uri": "https://localhost:8080/"
        },
        "id": "p9tBqpnvWEDo",
        "outputId": "aceceda8-c622-437c-f85a-2db2203748ab"
      },
      "source": [
        "len(intel_predictions)"
      ],
      "execution_count": null,
      "outputs": [
        {
          "output_type": "execute_result",
          "data": {
            "text/plain": [
              "10152"
            ]
          },
          "metadata": {
            "tags": []
          },
          "execution_count": 110
        }
      ]
    },
    {
      "cell_type": "code",
      "metadata": {
        "colab": {
          "base_uri": "https://localhost:8080/"
        },
        "id": "O2m8EeAXWFc2",
        "outputId": "ff1cc870-69c3-4087-bf55-74fbb12f792f"
      },
      "source": [
        "len(intel_close)"
      ],
      "execution_count": null,
      "outputs": [
        {
          "output_type": "execute_result",
          "data": {
            "text/plain": [
              "10362"
            ]
          },
          "metadata": {
            "tags": []
          },
          "execution_count": 111
        }
      ]
    },
    {
      "cell_type": "code",
      "metadata": {
        "colab": {
          "base_uri": "https://localhost:8080/"
        },
        "id": "tA8lmG5HWLAI",
        "outputId": "6d53f030-7b15-4050-a6da-99101733d0b0"
      },
      "source": [
        "intel_xvalue_norm[0]"
      ],
      "execution_count": null,
      "outputs": [
        {
          "output_type": "execute_result",
          "data": {
            "text/plain": [
              "array([ 0.71552014,  0.5894576 ,  1.5162296 ,  1.5691782 ,  0.10943511,\n",
              "       -0.7938307 , -0.59021366, -0.8156513 , -1.675015  , -0.5322857 ],\n",
              "      dtype=float32)"
            ]
          },
          "metadata": {
            "tags": []
          },
          "execution_count": 22
        }
      ]
    },
    {
      "cell_type": "code",
      "metadata": {
        "id": "J9ypQL_KYpBs"
      },
      "source": [
        ""
      ],
      "execution_count": null,
      "outputs": []
    }
  ]
}